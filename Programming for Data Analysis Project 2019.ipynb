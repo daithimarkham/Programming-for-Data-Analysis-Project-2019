{
 "cells": [
  {
   "cell_type": "markdown",
   "metadata": {},
   "source": [
    "# Project for Programming Data Analysis 2019\n",
    "\n",
    "## Project Guidelines.\n",
    "\n",
    "- For this project we will be creating a data set, by simulating a real-world phenomenon of your choosing.\n",
    "\n",
    "- You might pick one that is of interest to you in your personal or professional life.\n",
    "\n",
    "- Then, rather than collect data related to the phenomenon, you should model and synthesise such data using Python.\n",
    "\n",
    "- We will be using the numpy.random package, a sub package of Python, for this purpose.\n",
    "\n",
    "### Specifically, in this project you should:\n",
    "\n",
    "- Choose a real-world phenomenon that can be measured and for which you could collect at least one-hundred data points across at least four different variables.\n",
    "\n",
    "- Investigate the types of variables involved, their likely distributions, and their relationships with each other.\n",
    "\n",
    "- Synthesise/simulate a data set as closely matching their properties as possible.\n",
    "\n",
    "- Detail your research and implement the simulation in a Jupyter notebook – the data set itself can simply be displayed in an output cell within the notebook."
   ]
  },
  {
   "cell_type": "code",
   "execution_count": null,
   "metadata": {},
   "outputs": [],
   "source": []
  }
 ],
 "metadata": {
  "kernelspec": {
   "display_name": "Python 3",
   "language": "python",
   "name": "python3"
  },
  "language_info": {
   "codemirror_mode": {
    "name": "ipython",
    "version": 3
   },
   "file_extension": ".py",
   "mimetype": "text/x-python",
   "name": "python",
   "nbconvert_exporter": "python",
   "pygments_lexer": "ipython3",
   "version": "3.7.1"
  }
 },
 "nbformat": 4,
 "nbformat_minor": 2
}
